{
 "cells": [
  {
   "cell_type": "markdown",
   "metadata": {},
   "source": [
    "# Use the PVOutput API library to retrieve metadata for all available systems in India\n",
    "\n",
    "**2023-10-20**"
   ]
  },
  {
   "cell_type": "markdown",
   "metadata": {},
   "source": [
    "## Setup"
   ]
  },
  {
   "cell_type": "code",
   "execution_count": 1,
   "metadata": {},
   "outputs": [],
   "source": [
    "import sys\n",
    "import requests\n",
    "import pandas as pd\n",
    "import geopandas as gpd\n",
    "from matplotlib import pyplot as plt\n",
    "\n",
    "sys.path.append(\"..\")\n",
    "from pvoutput.grid_search import GridSearch\n",
    "from pvoutput.pvoutput import PVOutput"
   ]
  },
  {
   "cell_type": "markdown",
   "metadata": {},
   "source": [
    "### Sites to get data from:\n",
    "\n",
    "Jaycee: 85738; BMT: 56151; 25 FM Grid Tie: 87410; FlinEnergy Infini 5k: 78186; Ind Moz: 10045; Little Tree: 90559; Solar 183: 60294"
   ]
  },
  {
   "cell_type": "code",
   "execution_count": 2,
   "metadata": {},
   "outputs": [],
   "source": [
    "api_key = \"3f784ff6cfa27c44436f88da0c429b410687ad14\"\n",
    "system_id = \"68732\"\n",
    "date = \"20230801\"\n",
    "data_service_url = \"https://pvoutput.org\"\n",
    "pv = PVOutput(api_key=api_key, system_id=system_id, data_service_url=data_service_url)\n"
   ]
  },
  {
   "cell_type": "markdown",
   "metadata": {},
   "source": [
    "#### Working curl request\n",
    "\n",
    "curl -H \"X-Pvoutput-Apikey: 3f784ff6cfa27c44436f88da0c429b410687ad14\" -H \"X-Pvoutput-SystemId: 68732\"  https://pvoutput.org/data/r2/getsystemstatus.jsp\\?dt\\=20230801\\&sid1\\=87410"
   ]
  },
  {
   "cell_type": "code",
   "execution_count": 184,
   "metadata": {},
   "outputs": [],
   "source": [
    "CACHE_DIR = \"/tmp\""
   ]
  },
  {
   "cell_type": "code",
   "execution_count": 10,
   "metadata": {},
   "outputs": [
    {
     "name": "stdout",
     "output_type": "stream",
     "text": [
      "change is happening\n",
      "               datetime  cumulative_energy_gen_Wh  instantaneous_power_gen_W  \\\n",
      "0   2023-08-01 05:55:00                       4.0                       51.0   \n",
      "1   2023-08-01 06:00:00                      30.0                      315.0   \n",
      "2   2023-08-01 06:05:00                      81.0                      613.0   \n",
      "3   2023-08-01 06:10:00                     164.0                      996.0   \n",
      "4   2023-08-01 06:15:00                     273.0                     1303.0   \n",
      "..                  ...                       ...                        ...   \n",
      "334 2023-08-01 19:20:00                   25960.0                        0.0   \n",
      "335 2023-08-01 19:25:00                   25960.0                        0.0   \n",
      "336 2023-08-01 19:30:00                   25960.0                        0.0   \n",
      "337 2023-08-01 19:35:00                   25960.0                        0.0   \n",
      "338 2023-08-01 19:40:00                   25960.0                        0.0   \n",
      "\n",
      "     temperature_C  voltage  system_id  \n",
      "0              NaN      NaN      85738  \n",
      "1              NaN      NaN      85738  \n",
      "2              NaN      NaN      85738  \n",
      "3              NaN      NaN      85738  \n",
      "4              NaN      NaN      85738  \n",
      "..             ...      ...        ...  \n",
      "334           26.0      NaN      87410  \n",
      "335           26.0      NaN      87410  \n",
      "336           26.0      NaN      87410  \n",
      "337           26.0      NaN      87410  \n",
      "338           25.0      NaN      87410  \n",
      "\n",
      "[339 rows x 6 columns]\n"
     ]
    },
    {
     "name": "stderr",
     "output_type": "stream",
     "text": [
      "/Users/dragonflyiterations/Desktop/open-climate-fix/pvoutput/pvoutput/pvoutput/prcoess.py:93: UserWarning: Could not infer format, so each element will be parsed individually, falling back to `dateutil`. To ensure parsing is consistent and as-expected, please specify a format.\n",
      "  one_pv_system_status[\"time\"] = pd.to_datetime(one_pv_system_status[\"time\"]).dt.strftime(\n",
      "/Users/dragonflyiterations/Desktop/open-climate-fix/pvoutput/pvoutput/pvoutput/prcoess.py:93: UserWarning: Could not infer format, so each element will be parsed individually, falling back to `dateutil`. To ensure parsing is consistent and as-expected, please specify a format.\n",
      "  one_pv_system_status[\"time\"] = pd.to_datetime(one_pv_system_status[\"time\"]).dt.strftime(\n"
     ]
    }
   ],
   "source": [
    "# Get output for list of sites\n",
    "sites = [\"87410\", \"85738\"]\n",
    "df = pv.get_system_status(pv_system_ids=sites, date=date, use_data_service=True)\n",
    "df.to_csv(f\"/Users/dragonflyiterations/Desktop/open-climate-fix/pvoutput/pvoutput/examples/pv_data/pv_data.csv\", index=False)\n",
    "print(df)\n"
   ]
  },
  {
   "cell_type": "code",
   "execution_count": null,
   "metadata": {},
   "outputs": [],
   "source": []
  }
 ],
 "metadata": {
  "kernelspec": {
   "display_name": "pvoutput-venv",
   "language": "python",
   "name": "python3"
  },
  "language_info": {
   "codemirror_mode": {
    "name": "ipython",
    "version": 3
   },
   "file_extension": ".py",
   "mimetype": "text/x-python",
   "name": "python",
   "nbconvert_exporter": "python",
   "pygments_lexer": "ipython3",
   "version": "3.10.6"
  }
 },
 "nbformat": 4,
 "nbformat_minor": 2
}
