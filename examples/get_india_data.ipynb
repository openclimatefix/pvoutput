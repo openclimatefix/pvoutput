{
 "cells": [
  {
   "cell_type": "markdown",
   "metadata": {},
   "source": [
    "## Get metadata for all systems in a country \n",
    "\n",
    "#### (excluding AU, US, NL, UK and DE) \n",
    "\n",
    "- Makes a request to the Get Country System Service - World.\n",
    "- For more information on this route, [see pvoutput.org API documentation](https://pvoutput.org/help/data_services.html#get-country-system-service). \n",
    "\n",
    "- The request being run by this notebook looks like this: ```https://pvoutput.org/data/r2/getcountrysystem.jsp?c={country_code}&from={start_id_range}&to={end_id_range}```, where ```country_code``` is the code for the country found in the docs and ```from``` and ```to``` are a range queried for system ids. \n",
    "\n",
    "- NB: The maximum range of the \"from\" and \"to\" parameters is 20000.\n",
    "\n",
    "**2023-11-06**"
   ]
  },
  {
   "cell_type": "markdown",
   "metadata": {},
   "source": [
    "## Setup"
   ]
  },
  {
   "cell_type": "code",
   "execution_count": 1,
   "metadata": {},
   "outputs": [],
   "source": [
    "import sys\n",
    "import pandas as pd\n",
    "\n",
    "sys.path.append(\"..\")\n",
    "from pvoutput.pvoutput import PVOutput"
   ]
  },
  {
   "cell_type": "code",
   "execution_count": 2,
   "metadata": {},
   "outputs": [],
   "source": [
    "# set up pvoutput environment variables \n",
    "# API_KEY is the key provided via the pvoutput.org account used\n",
    "# SYSTEM_ID is the system_id connected to your account on pvoutput.org\n",
    "api_key = \"API_KEY\"\n",
    "system_id = \"SYSTEM_ID\"\n",
    "data_service_url = \"https://pvoutput.org\"\n",
    "country_code=\"COUNTRY_CODE\" # get from pvoutput.org, e.g. \"in\" for India\n",
    "pv = PVOutput(api_key=api_key, system_id=system_id, data_service_url=data_service_url)\n"
   ]
  },
  {
   "cell_type": "code",
   "execution_count": 26,
   "metadata": {},
   "outputs": [],
   "source": [
    "# set up a directory locally to store data \n",
    "CACHE_DIR = \"../examples/pv_data\""
   ]
  },
  {
   "cell_type": "markdown",
   "metadata": {},
   "source": [
    "#### Create csv file with metadata from country systems. \n",
    "\n",
    "Could be useful to check the Get Country System Service [documentation](https://pvoutput.org/help/data_services.html#get-country-system-service) for data specifications."
   ]
  },
  {
   "cell_type": "code",
   "execution_count": null,
   "metadata": {},
   "outputs": [],
   "source": [
    "# set up a list of ranges to check for system ids and metadat\n",
    "start_id_range = list(range(1, 120000, 20000))\n",
    "end_id_range = list(range(20000, 140000, 20000))\n",
    "\n",
    "# get system metadata for a country\n",
    "def get_system_metadata_by_country(start_id_range=start_id_range, end_id_range=end_id_range):\n",
    "    frames = []\n",
    "    i=0\n",
    "    while i < len(start_id_range) and i < len(end_id_range):\n",
    "        df = pv.get_metadata_for_country(country_code={country_code}, start_id_range=start_id_range[i], end_id_range=end_id_range[i], use_data_service=True)\n",
    "        frames.append(df)\n",
    "        i+=1\n",
    "    df= pd.concat(frames)\n",
    "    df.to_csv(f\"{CACHE_DIR}/example.csv\", index=False)\n",
    "    return df\n",
    "\n",
    "get_system_metadata_by_country(start_id_range=start_id_range, end_id_range=end_id_range)\n",
    "\n",
    "\n"
   ]
  }
 ],
 "metadata": {
  "kernelspec": {
   "display_name": "pvoutput-venv",
   "language": "python",
   "name": "python3"
  },
  "language_info": {
   "codemirror_mode": {
    "name": "ipython",
    "version": 3
   },
   "file_extension": ".py",
   "mimetype": "text/x-python",
   "name": "python",
   "nbconvert_exporter": "python",
   "pygments_lexer": "ipython3",
   "version": "3.10.6"
  }
 },
 "nbformat": 4,
 "nbformat_minor": 2
}
